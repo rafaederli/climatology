{
 "cells": [
  {
   "cell_type": "markdown",
   "id": "dcdd180d",
   "metadata": {},
   "source": [
    "# Caracterização Climática de São Paulo\n",
    "\n",
    "Por que interessante: São Paulo é a maior metrópole do Brasil e apresenta um clima subtropical com estações relativamente bem definidas. A cidade é excelente para estudar como a urbanização impacta o microclima, gerando efeitos como as ilhas de calor urbanas. Além disso, a proximidade da Serra do Mar traz eventos de precipitação intensa, influenciando a análise das chuvas e enchentes.\n",
    "Aspectos climáticos: Verões quentes e chuvosos, invernos mais frios e secos, com maior amplitude térmica anual em comparação a cidades tropicais."
   ]
  },
  {
   "cell_type": "markdown",
   "id": "ab48708d",
   "metadata": {},
   "source": [
    "# Definir as estações meteorológicas que possam representar melhor a cidade."
   ]
  },
  {
   "cell_type": "markdown",
   "id": "cf1ce1b9",
   "metadata": {},
   "source": [
    "o objetivo desse projeto é caracterizar os microclimas da cidade de são paulo e compará-los afim de verificar se existem diferenças significativas provocadas pelas características dos territórios. A cidade é extensa dividida em cinco regioes norte sul leste oeste cada uma com ocupações distintas.\n",
    "\n",
    "A primeira etapa é definir quais estacoes meteorológicas de cada regiao serao utilizadas. O INMET (Instituto Nacional de Meteorologia) é a fonte dos dados desse projeto e fornece uma base de dados com as coordenadas de cada estacao no Brasil, assim como os dados coletados de cada estacao.\n",
    "\n",
    "Para cada regiao serão selecionadas três estacoes, ou seja, sera feitqa uma triangulacao de forma que possa ser representativa."
   ]
  },
  {
   "cell_type": "markdown",
   "id": "98058fde",
   "metadata": {},
   "source": [
    "## Escolha das estacoes\n",
    "\n",
    "O INMET fornece dois catálogos com suas estacoes - estações automáticas e estações convencionais. Cada catalogo possui cinco dimensões: "
   ]
  },
  {
   "cell_type": "code",
   "execution_count": 3,
   "id": "d372968f",
   "metadata": {},
   "outputs": [
    {
     "data": {
      "text/plain": [
       "\"\\nimport pandas as pd\\nimport folium\\n\\ndf = pd.read_csv('CatalogoEstaçõesAutomáticas.csv', sep=';')\\ndf['VL_LATITUDE'] = df['VL_LATITUDE'].str.replace(',', '.').astype(float)\\ndf['VL_LONGITUDE'] = df['VL_LONGITUDE'].str.replace(',', '.').astype(float)\\nmapa = folium.Map(location=[df['VL_LATITUDE'].mean(), df['VL_LONGITUDE'].mean()], zoom_start=6)\\n\\nfor idx, row in df.iterrows():\\n    folium.Marker(\\n        location=[row['VL_LATITUDE'], row['VL_LONGITUDE']],\\n        popup=row.get('DC_NOME', 'CD_ESTACAO'),\\n        icon=folium.Icon(color='blue')\\n    ).add_to(mapa)\\n\\nfolium.TileLayer(\\n    tiles='http://mt1.google.com/vt/lyrs=s&x={x}&y={y}&z={z}', \\n    attr='Google',\\n    name='Google Satellite',\\n    overlay=False,\\n    control=True\\n).add_to(mapa)\\n    \\n\""
      ]
     },
     "execution_count": 3,
     "metadata": {},
     "output_type": "execute_result"
    }
   ],
   "source": [
    "\"\"\"\n",
    "import pandas as pd\n",
    "import folium\n",
    "\n",
    "df = pd.read_csv('CatalogoEstaçõesAutomáticas.csv', sep=';')\n",
    "df['VL_LATITUDE'] = df['VL_LATITUDE'].str.replace(',', '.').astype(float)\n",
    "df['VL_LONGITUDE'] = df['VL_LONGITUDE'].str.replace(',', '.').astype(float)\n",
    "mapa = folium.Map(location=[df['VL_LATITUDE'].mean(), df['VL_LONGITUDE'].mean()], zoom_start=6)\n",
    "\n",
    "for idx, row in df.iterrows():\n",
    "    folium.Marker(\n",
    "        location=[row['VL_LATITUDE'], row['VL_LONGITUDE']],\n",
    "        popup=row.get('DC_NOME', 'CD_ESTACAO'),\n",
    "        icon=folium.Icon(color='blue')\n",
    "    ).add_to(mapa)\n",
    "\n",
    "folium.TileLayer(\n",
    "    tiles='http://mt1.google.com/vt/lyrs=s&x={x}&y={y}&z={z}', \n",
    "    attr='Google',\n",
    "    name='Google Satellite',\n",
    "    overlay=False,\n",
    "    control=True\n",
    ").add_to(mapa)\n",
    "    \n",
    "\"\"\""
   ]
  },
  {
   "cell_type": "code",
   "execution_count": 17,
   "id": "9b387f33",
   "metadata": {},
   "outputs": [
    {
     "data": {
      "text/plain": [
       "'\\nwith open(f\"weather_stations_{os.path.basename(most_representative_year)}\", mode=\"w\", newline=\"\", encoding=\"utf-8\") as csv_file:\\n    writer = csv.writer(csv_file)'"
      ]
     },
     "execution_count": 17,
     "metadata": {},
     "output_type": "execute_result"
    }
   ],
   "source": [
    "import os\n",
    "import logging\n",
    "import csv\n",
    "\n",
    "sourcesPath = os.path.join(os.getcwd(), \"sources\")\n",
    "\n",
    "fileCount = 0\n",
    "representativeDir = None\n",
    "\n",
    "for root, dirs, files in os.walk(sourcesPath):\n",
    "    for file in files:\n",
    "        if not file.startswith(\"INMET_SE_SP_\"):\n",
    "            filePath = os.path.join(root, file)\n",
    "            try:\n",
    "                os.remove(filePath)\n",
    "            except Exception as e:\n",
    "                logging.error(f\"Erro ao excluir {filePath}: {e}\")\n",
    "    \n",
    "    if not os.listdir(root):\n",
    "        try:\n",
    "            os.rmdir(root)\n",
    "        except Exception as e:\n",
    "            logging.error(f\"Erro ao excluir o diretório {root}: {e}\")\n",
    "    \n",
    "    dirFileCount = len(files)\n",
    "    if dirFileCount > fileCount:\n",
    "        fileCount = dirFileCount\n",
    "        representativeDir = root\n",
    "\"\"\"\n",
    "with open(f\"weather_stations_{os.path.basename(most_representative_year)}\", mode=\"w\", newline=\"\", encoding=\"utf-8\") as csv_file:\n",
    "    writer = csv.writer(csv_file)\"\"\""
   ]
  }
 ],
 "metadata": {
  "kernelspec": {
   "display_name": "Python 3 (ipykernel)",
   "language": "python",
   "name": "python3"
  },
  "language_info": {
   "codemirror_mode": {
    "name": "ipython",
    "version": 3
   },
   "file_extension": ".py",
   "mimetype": "text/x-python",
   "name": "python",
   "nbconvert_exporter": "python",
   "pygments_lexer": "ipython3",
   "version": "3.10.3"
  }
 },
 "nbformat": 4,
 "nbformat_minor": 5
}
